{
 "cells": [
  {
   "cell_type": "markdown",
   "id": "05174999-1a8b-4dca-8403-e58528920dce",
   "metadata": {},
   "source": [
    "# Baseline"
   ]
  },
  {
   "cell_type": "code",
   "execution_count": null,
   "id": "1d63d6b6-ffc1-4420-b26d-15982c19ca8a",
   "metadata": {},
   "outputs": [],
   "source": [
    "import cv2\n",
    "import numpy as np\n",
    "import pandas as pd\n",
    "import matplotlib.pyplot as plt"
   ]
  },
  {
   "cell_type": "code",
   "execution_count": null,
   "id": "f71746ee-175b-424e-88b4-5c08cb027242",
   "metadata": {},
   "outputs": [],
   "source": [
    "from pathlib import Path"
   ]
  },
  {
   "cell_type": "code",
   "execution_count": null,
   "id": "fa875c25-adba-4a2f-8d0b-04b7379e6a92",
   "metadata": {},
   "outputs": [],
   "source": [
    "data_path = Path(\"./data\")\n",
    "images_path = data_path / \"competition/competition/\"\n",
    "masks_path  = data_path / \"masks/\""
   ]
  },
  {
   "cell_type": "code",
   "execution_count": null,
   "id": "3ad6e6a4-157b-4caf-b132-7fa61643ffa3",
   "metadata": {},
   "outputs": [],
   "source": [
    "from utils import *"
   ]
  },
  {
   "cell_type": "code",
   "execution_count": null,
   "id": "c7f6afd4-1abd-43c5-9497-d548446deadd",
   "metadata": {
    "scrolled": true,
    "tags": []
   },
   "outputs": [],
   "source": [
    "ious = []\n",
    "\n",
    "for index in range(5):\n",
    "    name = f\"{index:06d}.jpg\"\n",
    "    image_path = images_path / name\n",
    "    mask_path  = masks_path  / name\n",
    "    \n",
    "    image = cv2.imread(str(image_path))\n",
    "    image = cv2.cvtColor(image, cv2.COLOR_BGR2GRAY)\n",
    "    image = cv2.normalize(image, None, alpha=0, beta=1, norm_type=cv2.NORM_MINMAX, dtype=cv2.CV_32F)\n",
    "    \n",
    "    true_mask = cv2.imread(str(mask_path))\n",
    "    true_mask = cv2.cvtColor(true_mask, cv2.COLOR_BGR2GRAY)\n",
    "    true_mask = cv2.normalize(true_mask, None, alpha=0, beta=1, norm_type=cv2.NORM_MINMAX, dtype=cv2.CV_32F)\n",
    "    _, true_mask = cv2.threshold(true_mask, 0.5, 1.0, cv2.THRESH_BINARY)\n",
    "    \n",
    "    mask = baseline_mask(image)\n",
    "    \n",
    "    fig = plt.figure(figsize=(10, 10))\n",
    "    plt.imshow(image)\n",
    "    plt.show()\n",
    "    fig = plt.figure(figsize=(10, 10))\n",
    "    plt.imshow(mask)\n",
    "    plt.show()\n",
    "    fig = plt.figure(figsize=(10, 10))\n",
    "    plt.imshow(true_mask)\n",
    "    plt.show()\n",
    "    plt.close()\n",
    "    \n",
    "    intersection_over_union = np.count_nonzero(np.minimum(mask, true_mask)) / np.count_nonzero(np.maximum(mask, true_mask))\n",
    "    #print(intersection_over_union)\n",
    "    ious.append(intersection_over_union)"
   ]
  },
  {
   "cell_type": "code",
   "execution_count": null,
   "id": "e4554102-0fa5-4326-82d0-01c66f684969",
   "metadata": {},
   "outputs": [],
   "source": [
    "sum(ious) / 5"
   ]
  },
  {
   "cell_type": "code",
   "execution_count": null,
   "id": "749b2193-80b5-4f9e-9e07-f27c721375fc",
   "metadata": {
    "scrolled": true,
    "tags": []
   },
   "outputs": [],
   "source": [
    "for index in range(26600, 26725):\n",
    "    print(index)\n",
    "    name = f\"{index:06d}.jpg\"\n",
    "    image_path = images_path / name\n",
    "    \n",
    "    image = cv2.imread(str(image_path))\n",
    "    image = cv2.cvtColor(image, cv2.COLOR_BGR2GRAY)\n",
    "    image = cv2.normalize(image, None, alpha=0, beta=1, norm_type=cv2.NORM_MINMAX, dtype=cv2.CV_32F)\n",
    "    \n",
    "    mask = baseline_mask(image)\n",
    "    plot_with_mask(image, mask)\n",
    "    \n",
    "    plt.close()"
   ]
  },
  {
   "cell_type": "code",
   "execution_count": null,
   "id": "87ba671a-f031-4f14-9aea-9118d97cf496",
   "metadata": {},
   "outputs": [],
   "source": [
    "def df_from_mask(name, mask):\n",
    "    numbers = pd.Series(np.arange(mask.size), name = 'ID')\n",
    "    ind = numbers.apply(lambda n: name + f\"_{n // mask.shape[1]}_{n % mask.shape[1]}\")\n",
    "    return pd.DataFrame({'value': mask.flatten()}, index = ind, dtype=np.int32)"
   ]
  },
  {
   "cell_type": "code",
   "execution_count": null,
   "id": "12889e2a-6e03-452d-a0d2-14fbf6898fd5",
   "metadata": {},
   "outputs": [],
   "source": [
    "from tqdm import tqdm\n",
    "\n",
    "dataframes = []\n",
    "\n",
    "for index in tqdm(range(26600, 26725)):\n",
    "    name = f\"{index:06d}\"\n",
    "    image_path = images_path / (name + \".jpg\")\n",
    "    \n",
    "    image = cv2.imread(str(image_path))\n",
    "    image = cv2.cvtColor(image, cv2.COLOR_BGR2GRAY)\n",
    "    image = cv2.normalize(image, None, alpha=0, beta=1, norm_type=cv2.NORM_MINMAX, dtype=cv2.CV_32F)\n",
    "    \n",
    "    mask = baseline_mask(image).astype(bool)\n",
    "    \n",
    "    #answer = pd.concat([answer, df_from_mask(name, mask)])\n",
    "    dataframes.append(df_from_mask(name, mask))\n",
    "    \n",
    "    #fig = plt.figure(figsize=(10, 10))\n",
    "    #plt.imshow(mask)\n",
    "    #plt.show()"
   ]
  },
  {
   "cell_type": "code",
   "execution_count": null,
   "id": "1d418385-f8a1-403a-9e16-e845a1ae0fc5",
   "metadata": {},
   "outputs": [],
   "source": [
    "answer = pd.concat(dataframes)\n",
    "answer.to_csv('baseline.csv')"
   ]
  },
  {
   "cell_type": "code",
   "execution_count": null,
   "id": "756ddcf0-cdbe-4c55-b165-db6452597047",
   "metadata": {},
   "outputs": [],
   "source": []
  }
 ],
 "metadata": {
  "kernelspec": {
   "display_name": "Global AI",
   "language": "python",
   "name": "global_ai"
  },
  "language_info": {
   "codemirror_mode": {
    "name": "ipython",
    "version": 3
   },
   "file_extension": ".py",
   "mimetype": "text/x-python",
   "name": "python",
   "nbconvert_exporter": "python",
   "pygments_lexer": "ipython3",
   "version": "3.9.2"
  }
 },
 "nbformat": 4,
 "nbformat_minor": 5
}
