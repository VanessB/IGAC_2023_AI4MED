{
 "cells": [
  {
   "cell_type": "markdown",
   "id": "05174999-1a8b-4dca-8403-e58528920dce",
   "metadata": {},
   "source": [
    "# Connected components\n",
    "\n",
    "Решение, основанное на анализе компонент связности"
   ]
  },
  {
   "cell_type": "code",
   "execution_count": null,
   "id": "1d63d6b6-ffc1-4420-b26d-15982c19ca8a",
   "metadata": {},
   "outputs": [],
   "source": [
    "import cv2\n",
    "import numpy as np\n",
    "import pandas as pd\n",
    "import matplotlib.pyplot as plt"
   ]
  },
  {
   "cell_type": "code",
   "execution_count": null,
   "id": "f71746ee-175b-424e-88b4-5c08cb027242",
   "metadata": {},
   "outputs": [],
   "source": [
    "from pathlib import Path"
   ]
  },
  {
   "cell_type": "code",
   "execution_count": null,
   "id": "fa875c25-adba-4a2f-8d0b-04b7379e6a92",
   "metadata": {},
   "outputs": [],
   "source": [
    "data_path = Path(\"./data\")\n",
    "images_path = data_path / \"competition/competition/\"\n",
    "masks_path  = data_path / \"masks/\""
   ]
  },
  {
   "cell_type": "code",
   "execution_count": null,
   "id": "3ad6e6a4-157b-4caf-b132-7fa61643ffa3",
   "metadata": {},
   "outputs": [],
   "source": [
    "from utils import plot_with_mask\n",
    "from utils_uint8 import *"
   ]
  },
  {
   "cell_type": "code",
   "execution_count": null,
   "id": "184c83bd-ad27-4e39-91f7-bc237bbb041b",
   "metadata": {},
   "outputs": [],
   "source": [
    "def get_mask(image: np.array, min_component_area: int=150) -> np.array:\n",
    "    \"\"\"\n",
    "    Получение маски.\n",
    "    \n",
    "    Параметры\n",
    "    ---------\n",
    "    image : np.array\n",
    "        Изображение.\n",
    "    min_component_area : int\n",
    "        Минимальная площадь компоненты связности.\n",
    "    \"\"\"\n",
    "    \n",
    "    brain_mask = get_brain_mask(image)\n",
    "    image = np.minimum(image, brain_mask)\n",
    "    \n",
    "    # Фильтрация шума.\n",
    "    image = cv2.bilateralFilter(image, 9, 10, 75)\n",
    "    \n",
    "    # Выделение первоначальной маски.\n",
    "    _, mask = cv2.threshold(image, 40, 255, cv2.THRESH_BINARY)\n",
    "    \n",
    "    # Морфологические преобразования для фильтрации шума в маске.\n",
    "    kernel_size = 2\n",
    "    kernel = cv2.getStructuringElement(cv2.MORPH_ELLIPSE, (kernel_size, kernel_size))\n",
    "    mask = cv2.morphologyEx(mask, cv2.MORPH_OPEN, kernel)\n",
    "    \n",
    "    kernel_size = 2\n",
    "    kernel = cv2.getStructuringElement(cv2.MORPH_ELLIPSE, (kernel_size, kernel_size))\n",
    "    mask = cv2.dilate(mask, kernel, iterations=2)\n",
    "    \n",
    "    mask = np.minimum(mask, brain_mask)\n",
    "    \n",
    "    # Получение компонент связности.\n",
    "    n_components, components_mask, stats, centroids = cv2.connectedComponentsWithStats(mask, connectivity=8)\n",
    "    \n",
    "    # Построение итоговой маски.\n",
    "    mask.fill(0)\n",
    "    for index in range(1, n_components):\n",
    "        # Проход по всем компонентам.\n",
    "        \n",
    "        # Площадь.\n",
    "        component_area = stats[index, cv2.CC_STAT_AREA]\n",
    "        \n",
    "        # Отсев компонент по площади.\n",
    "        if component_area > min_component_area:\n",
    "            # Маска текущей компоненты.\n",
    "            component_mask = np.zeros_like(mask)\n",
    "            component_mask[components_mask == index] = 255\n",
    "            \n",
    "            #plot_with_mask(image, component_mask)\n",
    "            \n",
    "            # Выделение ближайших к границе укружающих и внутренних пикселей.\n",
    "            kernel_size = 5\n",
    "            kernel = cv2.getStructuringElement(cv2.MORPH_ELLIPSE, (kernel_size, kernel_size))\n",
    "            dilated_mask = np.minimum(cv2.dilate(component_mask, kernel), brain_mask)\n",
    "            eroded_mask  = cv2.erode(component_mask, kernel)\n",
    "            \n",
    "            # Вычисление трёх характеристик.\n",
    "            mean_mask = np.median(image[component_mask == 255])\n",
    "            mean_delta_dilated = np.median(image[(dilated_mask == 255) & (component_mask == 0)])\n",
    "            mean_delta_eroded  = np.median(image[(eroded_mask  == 0)   & (component_mask == 255)])\n",
    "            \n",
    "            #print(mean_mask, mean_delta_eroded, mean_delta_dilated)\n",
    "            \n",
    "            # Вот тут надо бы поподбирать. МБ даже имеет смысл кластеризацию какую-то делать.\n",
    "            # Текущая идея: смотрим на контраст соседних к границе пикселей.\n",
    "            if mean_mask > mean_delta_eroded + 4.0:\n",
    "                mask[components_mask == index] = 255\n",
    "    \n",
    "    return mask"
   ]
  },
  {
   "cell_type": "code",
   "execution_count": null,
   "id": "c7f6afd4-1abd-43c5-9497-d548446deadd",
   "metadata": {
    "scrolled": true,
    "tags": []
   },
   "outputs": [],
   "source": [
    "ious = []\n",
    "\n",
    "for index in range(5):\n",
    "    name = f\"{index:06d}.jpg\"\n",
    "    image_path = images_path / name\n",
    "    mask_path  = masks_path  / name\n",
    "    \n",
    "    image = cv2.imread(str(image_path), cv2.IMREAD_GRAYSCALE)\n",
    "    true_mask = cv2.imread(str(mask_path), cv2.IMREAD_GRAYSCALE)\n",
    "    \n",
    "    mask = get_mask(image)\n",
    "    plot_with_mask(image, mask)\n",
    "    \n",
    "    intersection_over_union = np.count_nonzero(np.minimum(mask, true_mask)) / np.count_nonzero(np.maximum(mask, true_mask))\n",
    "    ious.append(intersection_over_union)"
   ]
  },
  {
   "cell_type": "code",
   "execution_count": null,
   "id": "e4554102-0fa5-4326-82d0-01c66f684969",
   "metadata": {},
   "outputs": [],
   "source": [
    "sum(ious) / 5"
   ]
  },
  {
   "cell_type": "code",
   "execution_count": null,
   "id": "749b2193-80b5-4f9e-9e07-f27c721375fc",
   "metadata": {
    "scrolled": true,
    "tags": []
   },
   "outputs": [],
   "source": [
    "for index in range(26600, 26725):\n",
    "    print(index)\n",
    "    name = f\"{index:06d}.jpg\"\n",
    "    image_path = images_path / name\n",
    "    \n",
    "    image = cv2.imread(str(image_path), cv2.IMREAD_GRAYSCALE)\n",
    "    \n",
    "    mask = get_mask(image)\n",
    "    plot_with_mask(image, mask)\n",
    "    \n",
    "    plt.close()"
   ]
  },
  {
   "cell_type": "code",
   "execution_count": null,
   "id": "87ba671a-f031-4f14-9aea-9118d97cf496",
   "metadata": {},
   "outputs": [],
   "source": [
    "def df_from_mask(name, mask):\n",
    "    numbers = pd.Series(np.arange(mask.size), name = 'ID')\n",
    "    ind = numbers.apply(lambda n: name + f\"_{n // mask.shape[1]}_{n % mask.shape[1]}\")\n",
    "    return pd.DataFrame({'value': mask.flatten()}, index = ind, dtype=np.int32)"
   ]
  },
  {
   "cell_type": "code",
   "execution_count": null,
   "id": "12889e2a-6e03-452d-a0d2-14fbf6898fd5",
   "metadata": {},
   "outputs": [],
   "source": [
    "from tqdm import tqdm\n",
    "\n",
    "dataframes = []\n",
    "\n",
    "for index in tqdm(range(26600, 26725)):\n",
    "    name = f\"{index:06d}\"\n",
    "    image_path = images_path / (name + \".jpg\")\n",
    "    \n",
    "    image = cv2.imread(str(image_path), cv2.IMREAD_GRAYSCALE)\n",
    "    \n",
    "    mask = get_mask(image).astype(bool)\n",
    "    \n",
    "    #answer = pd.concat([answer, df_from_mask(name, mask)])\n",
    "    dataframes.append(df_from_mask(name, mask))\n",
    "    \n",
    "    #fig = plt.figure(figsize=(10, 10))\n",
    "    #plt.imshow(mask)\n",
    "    #plt.show()"
   ]
  },
  {
   "cell_type": "code",
   "execution_count": null,
   "id": "1d418385-f8a1-403a-9e16-e845a1ae0fc5",
   "metadata": {},
   "outputs": [],
   "source": [
    "answer = pd.concat(dataframes)\n",
    "answer.to_csv('connected_components.csv')"
   ]
  },
  {
   "cell_type": "code",
   "execution_count": null,
   "id": "756ddcf0-cdbe-4c55-b165-db6452597047",
   "metadata": {},
   "outputs": [],
   "source": []
  }
 ],
 "metadata": {
  "kernelspec": {
   "display_name": "Global AI",
   "language": "python",
   "name": "global_ai"
  },
  "language_info": {
   "codemirror_mode": {
    "name": "ipython",
    "version": 3
   },
   "file_extension": ".py",
   "mimetype": "text/x-python",
   "name": "python",
   "nbconvert_exporter": "python",
   "pygments_lexer": "ipython3",
   "version": "3.9.2"
  }
 },
 "nbformat": 4,
 "nbformat_minor": 5
}
